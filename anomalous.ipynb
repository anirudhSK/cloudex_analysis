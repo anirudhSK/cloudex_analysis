{
 "cells": [
  {
   "cell_type": "code",
   "execution_count": 1,
   "metadata": {},
   "outputs": [],
   "source": [
    "import pandas\n"
   ]
  },
  {
   "cell_type": "code",
   "execution_count": 2,
   "metadata": {},
   "outputs": [
    {
     "name": "stdout",
     "output_type": "stream",
     "text": [
      "CPU times: user 1min 29s, sys: 48.1 s, total: 2min 17s\n",
      "Wall time: 3min 3s\n"
     ]
    }
   ],
   "source": [
    "%time cloudex_df = pandas.read_csv(\"/Users/anirudh/Downloads/up_df_competition_11_05.csv\")"
   ]
  },
  {
   "cell_type": "code",
   "execution_count": 6,
   "metadata": {},
   "outputs": [],
   "source": [
    "last_hop_latencies = cloudex_df.groupby(['Gateway-Num']).mean()[\"6\"]"
   ]
  },
  {
   "cell_type": "code",
   "execution_count": 7,
   "metadata": {},
   "outputs": [
    {
     "data": {
      "text/plain": [
       "Gateway-Num\n",
       "g1       0.902203\n",
       "g11      0.614946\n",
       "g12      0.607695\n",
       "g2       1.362093\n",
       "g3       0.875918\n",
       "g4     293.842039\n",
       "g5       0.881006\n",
       "g6       0.978602\n",
       "g7       1.053006\n",
       "g8       0.739111\n",
       "Name: 6, dtype: float64"
      ]
     },
     "execution_count": 7,
     "metadata": {},
     "output_type": "execute_result"
    }
   ],
   "source": [
    "last_hop_latencies"
   ]
  },
  {
   "cell_type": "code",
   "execution_count": 8,
   "metadata": {},
   "outputs": [],
   "source": [
    "g4_orders=cloudex_df.query('`Gateway-Num` == \"g4\"')"
   ]
  },
  {
   "cell_type": "code",
   "execution_count": 9,
   "metadata": {},
   "outputs": [
    {
     "data": {
      "text/html": [
       "<div>\n",
       "<style scoped>\n",
       "    .dataframe tbody tr th:only-of-type {\n",
       "        vertical-align: middle;\n",
       "    }\n",
       "\n",
       "    .dataframe tbody tr th {\n",
       "        vertical-align: top;\n",
       "    }\n",
       "\n",
       "    .dataframe thead th {\n",
       "        text-align: right;\n",
       "    }\n",
       "</style>\n",
       "<table border=\"1\" class=\"dataframe\">\n",
       "  <thead>\n",
       "    <tr style=\"text-align: right;\">\n",
       "      <th></th>\n",
       "      <th>Order-Serial-Num</th>\n",
       "      <th>Confirmation-Submission-Time</th>\n",
       "      <th>In-Sequence-Buffer-Confirmation-Timestamp</th>\n",
       "      <th>Order-Processed-Confirmation-Timestamp</th>\n",
       "      <th>Real-Order-Gateway-Timestamp</th>\n",
       "      <th>Genesis-Timestamp</th>\n",
       "      <th>Gateway-Timestamp</th>\n",
       "      <th>Enqueue-Timestamp</th>\n",
       "      <th>Dequeue-Timestamp</th>\n",
       "      <th>Buffer-Length-Deque</th>\n",
       "      <th>...</th>\n",
       "      <th>Serial-Num</th>\n",
       "      <th>Num-Shares</th>\n",
       "      <th>1</th>\n",
       "      <th>2</th>\n",
       "      <th>3</th>\n",
       "      <th>4</th>\n",
       "      <th>5</th>\n",
       "      <th>6</th>\n",
       "      <th>Confirmation-Latency-ms</th>\n",
       "      <th>Publishing-Latency-ms</th>\n",
       "    </tr>\n",
       "    <tr>\n",
       "      <th>Client-Num</th>\n",
       "      <th></th>\n",
       "      <th></th>\n",
       "      <th></th>\n",
       "      <th></th>\n",
       "      <th></th>\n",
       "      <th></th>\n",
       "      <th></th>\n",
       "      <th></th>\n",
       "      <th></th>\n",
       "      <th></th>\n",
       "      <th></th>\n",
       "      <th></th>\n",
       "      <th></th>\n",
       "      <th></th>\n",
       "      <th></th>\n",
       "      <th></th>\n",
       "      <th></th>\n",
       "      <th></th>\n",
       "      <th></th>\n",
       "      <th></th>\n",
       "      <th></th>\n",
       "    </tr>\n",
       "  </thead>\n",
       "  <tbody>\n",
       "    <tr>\n",
       "      <th>c11</th>\n",
       "      <td>3.358461e+06</td>\n",
       "      <td>1.604548e+15</td>\n",
       "      <td>1.604548e+15</td>\n",
       "      <td>1.604548e+15</td>\n",
       "      <td>1.604548e+15</td>\n",
       "      <td>1.604548e+15</td>\n",
       "      <td>1.604548e+15</td>\n",
       "      <td>1.604548e+15</td>\n",
       "      <td>1.604548e+15</td>\n",
       "      <td>0.094854</td>\n",
       "      <td>...</td>\n",
       "      <td>3.358461e+06</td>\n",
       "      <td>NaN</td>\n",
       "      <td>0.220886</td>\n",
       "      <td>0.165038</td>\n",
       "      <td>0.18881</td>\n",
       "      <td>0.009589</td>\n",
       "      <td>0.250632</td>\n",
       "      <td>293.842039</td>\n",
       "      <td>294.676995</td>\n",
       "      <td>0.081439</td>\n",
       "    </tr>\n",
       "  </tbody>\n",
       "</table>\n",
       "<p>1 rows × 24 columns</p>\n",
       "</div>"
      ],
      "text/plain": [
       "            Order-Serial-Num  Confirmation-Submission-Time  \\\n",
       "Client-Num                                                   \n",
       "c11             3.358461e+06                  1.604548e+15   \n",
       "\n",
       "            In-Sequence-Buffer-Confirmation-Timestamp  \\\n",
       "Client-Num                                              \n",
       "c11                                      1.604548e+15   \n",
       "\n",
       "            Order-Processed-Confirmation-Timestamp  \\\n",
       "Client-Num                                           \n",
       "c11                                   1.604548e+15   \n",
       "\n",
       "            Real-Order-Gateway-Timestamp  Genesis-Timestamp  \\\n",
       "Client-Num                                                    \n",
       "c11                         1.604548e+15       1.604548e+15   \n",
       "\n",
       "            Gateway-Timestamp  Enqueue-Timestamp  Dequeue-Timestamp  \\\n",
       "Client-Num                                                            \n",
       "c11              1.604548e+15       1.604548e+15       1.604548e+15   \n",
       "\n",
       "            Buffer-Length-Deque  ...    Serial-Num  Num-Shares         1  \\\n",
       "Client-Num                       ...                                       \n",
       "c11                    0.094854  ...  3.358461e+06         NaN  0.220886   \n",
       "\n",
       "                   2        3         4         5           6  \\\n",
       "Client-Num                                                      \n",
       "c11         0.165038  0.18881  0.009589  0.250632  293.842039   \n",
       "\n",
       "            Confirmation-Latency-ms  Publishing-Latency-ms  \n",
       "Client-Num                                                  \n",
       "c11                      294.676995               0.081439  \n",
       "\n",
       "[1 rows x 24 columns]"
      ]
     },
     "execution_count": 9,
     "metadata": {},
     "output_type": "execute_result"
    }
   ],
   "source": [
    "g4_orders.groupby('Client-Num').mean()"
   ]
  },
  {
   "cell_type": "code",
   "execution_count": 10,
   "metadata": {},
   "outputs": [
    {
     "data": {
      "text/plain": [
       "<matplotlib.axes._subplots.AxesSubplot at 0x114a39b50>"
      ]
     },
     "execution_count": 10,
     "metadata": {},
     "output_type": "execute_result"
    },
    {
     "data": {
      "image/png": "[encoded data removed]",
      "text/plain": [
       "<Figure size 432x288 with 1 Axes>"
      ]
     },
     "metadata": {
      "needs_background": "light"
     },
     "output_type": "display_data"
    }
   ],
   "source": [
    "g4_orders[\"6\"].plot()"
   ]
  },
  {
   "cell_type": "code",
   "execution_count": null,
   "metadata": {},
   "outputs": [],
   "source": []
  }
 ],
 "metadata": {
  "kernelspec": {
   "display_name": "Python 3",
   "language": "python",
   "name": "python3"
  },
  "language_info": {
   "codemirror_mode": {
    "name": "ipython",
    "version": 3
   },
   "file_extension": ".py",
   "mimetype": "text/x-python",
   "name": "python",
   "nbconvert_exporter": "python",
   "pygments_lexer": "ipython3",
   "version": "3.8.3"
  }
 },
 "nbformat": 4,
 "nbformat_minor": 4
}
